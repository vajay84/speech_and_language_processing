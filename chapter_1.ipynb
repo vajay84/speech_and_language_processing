{
 "cells": [
  {
   "cell_type": "markdown",
   "metadata": {},
   "source": [
    "Write regular expressions for the following languages.\n",
    "1. the set of all alphabetic strings;\n",
    "2. the set of all lower case alphabetic strings ending in a b;\n",
    "3. the set of all strings from the alphabet a, b such that each a is immedi-\n",
    "ately preceded by and immediately followed by a b;"
   ]
  },
  {
   "cell_type": "code",
   "execution_count": 4,
   "metadata": {},
   "outputs": [],
   "source": [
    "test_string = \"Acsdfdj Jhskf^&>.. (434543601)\""
   ]
  },
  {
   "cell_type": "code",
   "execution_count": 5,
   "metadata": {},
   "outputs": [],
   "source": [
    "import re"
   ]
  },
  {
   "cell_type": "code",
   "execution_count": 17,
   "metadata": {},
   "outputs": [
    {
     "data": {
      "text/plain": [
       "['Acsdfdja', 'Jhsdfbkf', 'a']"
      ]
     },
     "execution_count": 17,
     "metadata": {},
     "output_type": "execute_result"
    }
   ],
   "source": [
    "#the set of all alphabetic strings\n",
    "pattern = \"[a-zA-Z]+\"\n",
    "re.findall(pattern, test_string)\n"
   ]
  },
  {
   "cell_type": "code",
   "execution_count": 20,
   "metadata": {},
   "outputs": [
    {
     "data": {
      "text/plain": [
       "['^&>.. (434543601)a']"
      ]
     },
     "execution_count": 20,
     "metadata": {},
     "output_type": "execute_result"
    }
   ],
   "source": [
    "#the set of all lower case alphabetic strings ending in a b;\n",
    "test_string = \"Acsdfdja Jhsdfbkf^&>.. (434543601)aba\"\n",
    "pattern = \"[a-z]+[ab]\"\n",
    "re.findall(pattern, test_string)"
   ]
  },
  {
   "cell_type": "code",
   "execution_count": 24,
   "metadata": {},
   "outputs": [
    {
     "data": {
      "text/plain": [
       "['aba']"
      ]
     },
     "execution_count": 24,
     "metadata": {},
     "output_type": "execute_result"
    }
   ],
   "source": [
    "# the set of all strings from the alphabet a, b such that each a is immediately preceded by and immediately followed by a b;\n",
    "test_string = \"aacsdfdjb Jhaadfbkf^&>.. (434543601)aba\"\n",
    "pattern = \"a+b[ab]+\"\n",
    "re.findall(pattern, test_string)"
   ]
  },
  {
   "cell_type": "code",
   "execution_count": 81,
   "metadata": {},
   "outputs": [],
   "source": []
  },
  {
   "cell_type": "markdown",
   "metadata": {},
   "source": [
    "## Edit distence implementation\n",
    "\n",
    "D[i, j] = \\min \\left(\n",
    "\\begin{array}{l}\n",
    "    D[i - 1, j] + \\text{del\\_cost}(\\text{source}[i]), \\\\\n",
    "    D[i, j - 1] + \\text{ins\\_cost}(\\text{target}[j]), \\\\\n",
    "    D[i - 1, j - 1] + \\text{sub\\_cost}(\\text{source}[i], \\text{target}[j])\n",
    "\\end{array}\n",
    "\\right)\n",
    "\n",
    "  "
   ]
  },
  {
   "cell_type": "code",
   "execution_count": 78,
   "metadata": {},
   "outputs": [],
   "source": [
    "class Distance():\n",
    "    def __init__(self, string1, string2):\n",
    "        self.cost_del = 1\n",
    "        self.cost_insertion = 1\n",
    "        self.string1 = string1\n",
    "        self.string2 = string2\n",
    "\n",
    "    def cost_sub(self, i, j):\n",
    "        if self.string1[i] == self.string2[j]:\n",
    "            return 0\n",
    "        return 1\n",
    "    \n",
    "    \n",
    "    def distance(self, n, m):\n",
    "        if m == 0 and n == 0:\n",
    "            return self.cost_sub(0, 0)\n",
    "        elif m == 0:\n",
    "            return self.cost_insertion\n",
    "        elif n == 0:\n",
    "            return self.cost_del\n",
    "        else:\n",
    "            a = self.distance(n-1,m)+self.cost_del\n",
    "            b = self.distance(n, m-1)+self.cost_insertion\n",
    "            c = self.distance(n-1, m-1)+self.cost_sub(n, m)\n",
    "            return min(a, b, c)\n",
    "            "
   ]
  },
  {
   "cell_type": "code",
   "execution_count": null,
   "metadata": {},
   "outputs": [],
   "source": []
  }
 ],
 "metadata": {
  "kernelspec": {
   "display_name": "Python 3",
   "language": "python",
   "name": "python3"
  },
  "language_info": {
   "codemirror_mode": {
    "name": "ipython",
    "version": 3
   },
   "file_extension": ".py",
   "mimetype": "text/x-python",
   "name": "python",
   "nbconvert_exporter": "python",
   "pygments_lexer": "ipython3",
   "version": "3.8.10"
  }
 },
 "nbformat": 4,
 "nbformat_minor": 2
}
