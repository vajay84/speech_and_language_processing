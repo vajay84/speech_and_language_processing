{
 "cells": [
  {
   "cell_type": "markdown",
   "metadata": {},
   "source": [
    "Write regular expressions for the following languages.\n",
    "1. the set of all alphabetic strings;\n",
    "2. the set of all lower case alphabetic strings ending in a b;\n",
    "3. the set of all strings from the alphabet a, b such that each a is immedi-\n",
    "ately preceded by and immediately followed by a b;"
   ]
  },
  {
   "cell_type": "code",
   "execution_count": null,
   "metadata": {},
   "outputs": [],
   "source": [
    "test_string = \"AcsdfdjJhskf^&>..(434543601)\""
   ]
  },
  {
   "cell_type": "code",
   "execution_count": null,
   "metadata": {},
   "outputs": [],
   "source": [
    "import re"
   ]
  },
  {
   "cell_type": "code",
   "execution_count": null,
   "metadata": {},
   "outputs": [],
   "source": [
    "#the set of all alphabetic strings\n",
    "pattern = \"[a-zA-Z]\"\n",
    "re.findall(pattern, test_string)\n"
   ]
  },
  {
   "cell_type": "code",
   "execution_count": null,
   "metadata": {},
   "outputs": [],
   "source": []
  }
 ],
 "metadata": {
  "kernelspec": {
   "display_name": "Python 3",
   "language": "python",
   "name": "python3"
  },
  "language_info": {
   "name": "python",
   "version": "3.8.10"
  }
 },
 "nbformat": 4,
 "nbformat_minor": 2
}
